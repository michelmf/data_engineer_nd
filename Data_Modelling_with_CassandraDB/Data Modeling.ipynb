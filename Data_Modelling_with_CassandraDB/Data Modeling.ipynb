{
 "cells": [
  {
   "cell_type": "markdown",
   "metadata": {
    "editable": true
   },
   "source": [
    "# Part I. ETL Pipeline for Pre-Processing the Files"
   ]
  },
  {
   "cell_type": "markdown",
   "metadata": {
    "editable": true
   },
   "source": [
    "#### Import Python packages "
   ]
  },
  {
   "cell_type": "code",
   "execution_count": 1,
   "metadata": {
    "editable": true
   },
   "outputs": [],
   "source": [
    "# Import Python packages \n",
    "import pandas as pd\n",
    "import cassandra\n",
    "import re\n",
    "import os\n",
    "import glob\n",
    "import numpy as np\n",
    "import json\n",
    "import csv"
   ]
  },
  {
   "cell_type": "markdown",
   "metadata": {
    "editable": true
   },
   "source": [
    "#### Creating list of filepaths to process original event csv data files"
   ]
  },
  {
   "cell_type": "code",
   "execution_count": 2,
   "metadata": {
    "editable": true
   },
   "outputs": [
    {
     "name": "stdout",
     "output_type": "stream",
     "text": [
      "/home/workspace\n"
     ]
    }
   ],
   "source": [
    "# checking your current working directory\n",
    "print(os.getcwd())\n",
    "\n",
    "# Get your current folder and subfolder event data\n",
    "filepath = os.getcwd() + '/event_data'\n",
    "\n",
    "# Create a for loop to create a list of files and collect each filepath\n",
    "for root, dirs, files in os.walk(filepath):\n",
    "    \n",
    "# join the file path and roots with the subdirectories using glob\n",
    "    file_path_list = glob.glob(os.path.join(root,'*'))\n",
    "    #print(file_path_list)"
   ]
  },
  {
   "cell_type": "markdown",
   "metadata": {
    "editable": true
   },
   "source": [
    "#### Processing the files to create the data file csv that will be used for Apache Casssandra tables"
   ]
  },
  {
   "cell_type": "code",
   "execution_count": 3,
   "metadata": {
    "editable": true
   },
   "outputs": [],
   "source": [
    "# initiating an empty list of rows that will be generated from each file\n",
    "full_data_rows_list = [] \n",
    "    \n",
    "# for every filepath in the file path list \n",
    "for f in file_path_list:\n",
    "\n",
    "# reading csv file \n",
    "    with open(f, 'r', encoding = 'utf8', newline='') as csvfile: \n",
    "        # creating a csv reader object \n",
    "        csvreader = csv.reader(csvfile) \n",
    "        next(csvreader)\n",
    "        \n",
    " # extracting each data row one by one and append it        \n",
    "        for line in csvreader:\n",
    "            #print(line)\n",
    "            full_data_rows_list.append(line) \n",
    "            \n",
    "# uncomment the code below if you would like to get total number of rows \n",
    "#print(len(full_data_rows_list))\n",
    "# uncomment the code below if you would like to check to see what the list of event data rows will look like\n",
    "#print(full_data_rows_list[:10])\n",
    "\n",
    "# creating a smaller event data csv file called event_datafile_full csv that will be used to insert data into the \\\n",
    "# Apache Cassandra tables\n",
    "csv.register_dialect('myDialect', quoting=csv.QUOTE_ALL, skipinitialspace=True)\n",
    "\n",
    "with open('event_datafile_new.csv', 'w', encoding = 'utf8', newline='') as f:\n",
    "    writer = csv.writer(f, dialect='myDialect')\n",
    "    writer.writerow(['artist','firstName','gender','itemInSession','lastName','length',\\\n",
    "                'level','location','sessionId','song','userId'])\n",
    "    for row in full_data_rows_list:\n",
    "        if (row[0] == ''):\n",
    "            continue\n",
    "        writer.writerow((row[0], row[2], row[3], row[4], row[5], row[6], row[7], row[8], row[12], row[13], row[16]))\n"
   ]
  },
  {
   "cell_type": "code",
   "execution_count": 4,
   "metadata": {
    "editable": true
   },
   "outputs": [
    {
     "name": "stdout",
     "output_type": "stream",
     "text": [
      "6821\n"
     ]
    }
   ],
   "source": [
    "# check the number of rows in the csv file\n",
    "with open('event_datafile_new.csv', 'r', encoding = 'utf8') as f:\n",
    "    print(sum(1 for line in f))"
   ]
  },
  {
   "cell_type": "markdown",
   "metadata": {
    "editable": true
   },
   "source": [
    "# Part II. Apache Cassandra coding portion of the project. \n",
    "\n",
    "## Now we are ready to work with the CSV file <font color=red>event_datafile_new.csv</font>, located within the Workspace directory.  The event_datafile_new.csv contains the following columns: \n",
    "- artist \n",
    "- firstName of user\n",
    "- gender of user\n",
    "- item number in session\n",
    "- last name of user\n",
    "- length of the song\n",
    "- level (paid or free song)\n",
    "- location of the user\n",
    "- sessionId\n",
    "- song title\n",
    "- userId\n",
    "\n",
    "The image below is a screenshot of what the denormalized data should appear like in the <font color=red>**event_datafile_new.csv**</font> after the code above is run:<br>\n",
    "\n",
    "<img src=\"images/image_event_datafile_new.jpg\">"
   ]
  },
  {
   "cell_type": "markdown",
   "metadata": {
    "editable": true
   },
   "source": [
    "#### Creating a Cluster"
   ]
  },
  {
   "cell_type": "code",
   "execution_count": 5,
   "metadata": {
    "editable": true
   },
   "outputs": [],
   "source": [
    "# This should make a connection to a Cassandra instance your local machine \n",
    "# (127.0.0.1)\n",
    "\n",
    "from cassandra.cluster import Cluster\n",
    "\n",
    "try:\n",
    "    cluster = Cluster(['127.0.0.1'])\n",
    "    \n",
    "    # To establish connection and begin executing queries, need a session\n",
    "    session = cluster.connect()\n",
    "\n",
    "except Exception as e:\n",
    "    print(e)"
   ]
  },
  {
   "cell_type": "markdown",
   "metadata": {
    "editable": true
   },
   "source": [
    "#### Create Keyspace"
   ]
  },
  {
   "cell_type": "code",
   "execution_count": 6,
   "metadata": {
    "editable": true
   },
   "outputs": [],
   "source": [
    "# Creating the sparkify keyspace\n",
    "try:\n",
    "    session.execute(\"\"\"\n",
    "    CREATE KEYSPACE IF NOT EXISTS sparkify \n",
    "    WITH REPLICATION = {'class' : 'SimpleStrategy', 'replication_factor' : 1}\n",
    "    \"\"\")\n",
    "    \n",
    "except Exception as e:\n",
    "    print(e)"
   ]
  },
  {
   "cell_type": "markdown",
   "metadata": {
    "editable": true
   },
   "source": [
    "#### Set Keyspace"
   ]
  },
  {
   "cell_type": "code",
   "execution_count": 7,
   "metadata": {
    "editable": true
   },
   "outputs": [],
   "source": [
    "# Setting the keyspace for future work\n",
    "try:\n",
    "    session.set_keyspace('sparkify')\n",
    "except Exception as e:\n",
    "    print(e)"
   ]
  },
  {
   "cell_type": "markdown",
   "metadata": {
    "editable": true
   },
   "source": [
    "### Now we need to create tables to run the following queries. Remembering that, with Apache Cassandra you model the database tables on the queries we want to run."
   ]
  },
  {
   "cell_type": "markdown",
   "metadata": {
    "editable": true
   },
   "source": [
    "#### 1. Query the artist, song title and song's length in the music app history that was heard during  sessionId = 338, and itemInSession  = 4\n",
    "\n",
    "To get these informations, we should execute the following query: SELECT artist, song, title FROM table WHERE sessionID = 338 AND itemInSession = 4\n",
    " \n",
    "The table would be like this one below.\n",
    "\n",
    "| Artist            | Song                | Length    | SessionID | ItemInSession |\n",
    "|-------------------|---------------------|-----------|-----------|---------------|\n",
    "| Des'ree           | You Gotta Be        | 246.30812 | 139       | 1             |\n",
    "| Dance Gavin Dance | Uneasy Hearts Weigh | 218.46159 | 47        | 0             |\n",
    "\n",
    "First, we need to create the table, and then insert data into it. By the data we can observe from *event_datafile_new.csv*, one can define the types of each column as:\n",
    "\n",
    "1. Artist        - Text\n",
    "2. Song          - Text\n",
    "3. Length        - Float\n",
    "4. SessionID     - Int\n",
    "5. ItemInSession - Int\n",
    "\n",
    "In this table, I am considering SessionID as the **partition key** and ItemInSession as the **clustering key**. Naming this table as _tb_session_songs_"
   ]
  },
  {
   "cell_type": "code",
   "execution_count": 8,
   "metadata": {
    "editable": true
   },
   "outputs": [
    {
     "name": "stdout",
     "output_type": "stream",
     "text": [
      "Table tb_session_song created\n"
     ]
    }
   ],
   "source": [
    "# Creating the table tb_session_song\n",
    "\n",
    "query = \"CREATE TABLE IF NOT EXISTS tb_session_songs \"\n",
    "query = query + '(sessionId int, itemInSession int, artist text, song text, length float, PRIMARY KEY(sessionId, itemInSession))'\n",
    "\n",
    "try:\n",
    "    session.execute(query)\n",
    "    print('Table tb_session_song created')\n",
    "\n",
    "except Exception as e:\n",
    "    print(e)"
   ]
  },
  {
   "cell_type": "code",
   "execution_count": 9,
   "metadata": {
    "editable": true
   },
   "outputs": [
    {
     "name": "stdout",
     "output_type": "stream",
     "text": [
      "Row(count=0)\n"
     ]
    }
   ],
   "source": [
    "# Checking if the table is empty\n",
    "try:\n",
    "    rows = session.execute('SELECT COUNT(*) FROM tb_session_songs')\n",
    "\n",
    "except Exception as e:\n",
    "    print(e)\n",
    "\n",
    "for row in rows:\n",
    "    print(row)"
   ]
  },
  {
   "cell_type": "code",
   "execution_count": 10,
   "metadata": {
    "editable": true
   },
   "outputs": [
    {
     "name": "stdout",
     "output_type": "stream",
     "text": [
      "Row(count=6820)\n"
     ]
    }
   ],
   "source": [
    "# Adding some data into the new table\n",
    "csv_file = 'event_datafile_new.csv'\n",
    "query = \"INSERT INTO tb_session_songs (sessionId, itemInsession, artist, song, length) VALUES (%s, %s, %s, %s, %s)\"\n",
    "\n",
    "# reading csv file \n",
    "with open(csv_file, 'r', encoding = 'utf8', newline='') as csvfile: \n",
    "    # creating a csv reader object \n",
    "    csvreader = csv.reader(csvfile) \n",
    "    next(csvreader)\n",
    "\n",
    "    # Reading each line and adding it to the table\n",
    "    for line in csvreader:\n",
    "        artist, firstName, gender, itemInSession, lastName, length, level, location, sessionId, song, userId = line\n",
    "\n",
    "        try:\n",
    "            session.execute(query, (int(sessionId), int(itemInSession), artist, song, float(length)))\n",
    "\n",
    "        except Exception as e:\n",
    "            print(f'The line was not inserted\\nError: {e}')\n",
    "\n",
    "#checking the inserted data\n",
    "try:\n",
    "    rows = session.execute('SELECT COUNT(*) FROM tb_session_songs')\n",
    "\n",
    "except Exception as e:\n",
    "    print(e)\n",
    "\n",
    "for row in rows:\n",
    "    print(row)"
   ]
  },
  {
   "cell_type": "code",
   "execution_count": 11,
   "metadata": {
    "editable": true
   },
   "outputs": [
    {
     "name": "stdout",
     "output_type": "stream",
     "text": [
      "Artist: Faithless, song name: Music Matters (Mark Knight Dub), length: 495.30731201171875\n"
     ]
    }
   ],
   "source": [
    "# Answering the question \"Give me the artist, song title and song's length in the music app history that was heard during  sessionId = 338, and itemInSession  = 4\"\n",
    "\n",
    "try:\n",
    "    rows = session.execute(\"SELECT artist, song, length FROM tb_session_songs WHERE sessionId = 338 AND itemInSession = 4\")\n",
    "    \n",
    "    for row in rows:\n",
    "        print(f'Artist: {row.artist}, song name: {row.song}, length: {row.length}')\n",
    "    \n",
    "except Exception as e:\n",
    "    print(e)"
   ]
  },
  {
   "cell_type": "markdown",
   "metadata": {
    "editable": true
   },
   "source": [
    "### 2. Finding only the following: name of artist, song (sorted by itemInSession) and user (first and last name) for userid = 10, sessionid = 182\n",
    "    "
   ]
  },
  {
   "cell_type": "markdown",
   "metadata": {
    "editable": true
   },
   "source": [
    "To answer this questin, we should execute the following query:\n",
    "\n",
    " _SELECT artist, song, firstName, lastName FROM table WHERE sessionId = 10 AND userId = 182_ ORDER BY itemInSession\n",
    " \n",
    " The table would be like this one below.\n",
    " \n",
    "| artist            | song                | firstName | lastName | sessionID | itemInSession |\n",
    "|-------------------|---------------------|-----------|----------|-----------|---------------|\n",
    "| Des'ree           | You Gotta Be        | Kaylee    | Summers  | 139       | 1             |\n",
    "| Dance Gavin Dance | Uneasy Hearts Weigh | Marina    | Sutton   | 47        | 0             |\n",
    "\n",
    "First, we need to create the table, and then insert data into it. By the data we can observe from the *event_datafile_new.csv*, one can define the types of each column as:\n",
    "\n",
    "1. Artist        - Text\n",
    "2. Song          - Text\n",
    "3. firstName     - Text\n",
    "4. lastName      - Text\n",
    "5. userId        - Int\n",
    "6. SessionID     - Int\n",
    "7. ItemInSession - Int\n",
    "\n",
    "In this table, I am considering **SessionID** and **userId** as **primary keys**, meanwhile **itemInSession** is used as **clustering key**. Since different items in session implies in different records, lines with the same session ID and user ID would be erased when a new record was inserted into the table. The itemInSession column as a clustering key would solve this problem, making each record different from the previous.\n",
    "\n",
    "Naming this table as _tb_user_session_"
   ]
  },
  {
   "cell_type": "code",
   "execution_count": 12,
   "metadata": {
    "editable": true
   },
   "outputs": [
    {
     "name": "stdout",
     "output_type": "stream",
     "text": [
      "Table tb_user_session created\n"
     ]
    }
   ],
   "source": [
    "# Creating the table tb_session_song\n",
    "\n",
    "query = \"CREATE TABLE IF NOT EXISTS tb_user_session \"\n",
    "query = query + '( userId int, sessionId int, itemInSession int, artist text, \\\n",
    "                   song text, firstName text, lastName text, \\\n",
    "                   PRIMARY KEY((userId, sessionId), itemInSession))'\n",
    "\n",
    "try:\n",
    "    session.execute(query)\n",
    "    print('Table tb_user_session created')\n",
    "\n",
    "except Exception as e:\n",
    "    print(e)"
   ]
  },
  {
   "cell_type": "code",
   "execution_count": 13,
   "metadata": {
    "editable": true
   },
   "outputs": [
    {
     "name": "stdout",
     "output_type": "stream",
     "text": [
      "Row(count=0)\n"
     ]
    }
   ],
   "source": [
    "# Checking if the table is empty\n",
    "try:\n",
    "    rows = session.execute('SELECT COUNT(*) FROM tb_user_session')\n",
    "\n",
    "except Exception as e:\n",
    "    print(e)\n",
    "\n",
    "for row in rows:\n",
    "    print(row)"
   ]
  },
  {
   "cell_type": "code",
   "execution_count": 14,
   "metadata": {
    "editable": true
   },
   "outputs": [],
   "source": [
    "# Adding some data into the new table\n",
    "csv_file = 'event_datafile_new.csv'\n",
    "query = \"INSERT INTO tb_user_session (userId, sessionId, itemInSession, artist, song, firstName, lastName) VALUES (%s, %s, %s, %s, %s, %s, %s)\"\n",
    "\n",
    "# reading csv file \n",
    "with open(csv_file, 'r', encoding = 'utf8', newline='') as csvfile: \n",
    "    # creating a csv reader object \n",
    "    csvreader = csv.reader(csvfile) \n",
    "    next(csvreader)\n",
    "\n",
    "    # Reading each line and adding it to the table\n",
    "    for line in csvreader:\n",
    "        artist, firstName, gender, itemInSession, lastName, length, level, location, sessionId, song, userId = line\n",
    "\n",
    "        try:\n",
    "            session.execute(query, (int(userId), int(sessionId), int(itemInSession), artist, song, firstName, lastName))\n",
    "\n",
    "        except Exception as e:\n",
    "            print(f'The line was not inserted\\nError: {e}')"
   ]
  },
  {
   "cell_type": "code",
   "execution_count": 15,
   "metadata": {
    "editable": true
   },
   "outputs": [
    {
     "name": "stdout",
     "output_type": "stream",
     "text": [
      "Row(count=6820)\n"
     ]
    }
   ],
   "source": [
    "#checking the inserted data\n",
    "\n",
    "try:\n",
    "    rows = session.execute('SELECT COUNT(*) FROM tb_user_session')\n",
    "\n",
    "except Exception as e:\n",
    "    print(e)\n",
    "\n",
    "for row in rows:\n",
    "    print(row)"
   ]
  },
  {
   "cell_type": "code",
   "execution_count": 16,
   "metadata": {
    "editable": true
   },
   "outputs": [
    {
     "name": "stdout",
     "output_type": "stream",
     "text": [
      "Artist: Down To The Bone, Song name: Keep On Keepin' On, User: Sylvie Cruz\n",
      "Artist: Three Drives, Song name: Greece 2000, User: Sylvie Cruz\n",
      "Artist: Sebastien Tellier, Song name: Kilometer, User: Sylvie Cruz\n",
      "Artist: Lonnie Gordon, Song name: Catch You Baby (Steve Pitron & Max Sanna Radio Edit), User: Sylvie Cruz\n"
     ]
    }
   ],
   "source": [
    "# Answering the question \"Give me only the following: name of artist, song (sorted by itemInSession) and user (first and last name) for userid = 10, sessionid = 182\"\n",
    "\n",
    "try:\n",
    "    rows = session.execute(\"SELECT artist, song, firstName, lastName \\\n",
    "                           FROM tb_user_session \\\n",
    "                           WHERE userId = 10 AND sessionId = 182 \\\n",
    "                           ORDER BY itemInSession\" )\n",
    "    \n",
    "    for row in rows:\n",
    "        print(f'Artist: {row.artist}, Song name: {row.song}, User: {row.firstname} {row.lastname}')\n",
    "        \n",
    "except Exception as e:\n",
    "    print(e)"
   ]
  },
  {
   "cell_type": "markdown",
   "metadata": {
    "editable": true
   },
   "source": [
    "### 3. Get every user name (first and last) in my music app history who listened to the song 'All Hands Against His Own'"
   ]
  },
  {
   "cell_type": "markdown",
   "metadata": {
    "editable": true
   },
   "source": [
    "In order to find each record in database with song equals to 'All hands against his own', we should execute the following query:\n",
    "\n",
    " _SELECT firstName, lastName FROM table WHERE song = 'All Hands Against Hist Own'\n",
    "\n",
    "First, we need to create the table, and then insert data into it. By the data we can observe from the *event_datafile_new.csv*, one can define the types of each column as:\n",
    "\n",
    "1. firstName     - Text\n",
    "2. lastName      - Text\n",
    "3. song          - Text\n",
    "4. userId        - Int\n",
    "5. SessionID     - Int\n",
    "6. ItemInSession - Int\n",
    "\n",
    "In this table, one would consider the song as the **primary key** and the columns userId, sessionId and itemInSession as **clustering keys**. In this configuration, it is possible to get every line of our database when the song is played by a customer, even when a user play the same music in a single session many times as wanted. However, as the requirement says, we only need to get first name and last name of the user for a given song name. Thus we can create a table with song and userId as primary keys. \n",
    "\n",
    "Naming this table as _tb_user_songs_"
   ]
  },
  {
   "cell_type": "code",
   "execution_count": 17,
   "metadata": {
    "editable": true
   },
   "outputs": [
    {
     "name": "stdout",
     "output_type": "stream",
     "text": [
      "Table tb_user_songs created\n"
     ]
    }
   ],
   "source": [
    "# Creating the table tb_session_song\n",
    "\n",
    "query = \"CREATE TABLE IF NOT EXISTS tb_user_songs \"\n",
    "query = query + '(song text, userId int, firstName text, lastName text, PRIMARY KEY(song, userId))'\n",
    "\n",
    "try:\n",
    "    session.execute(query)\n",
    "    print('Table tb_user_songs created')\n",
    "\n",
    "except Exception as e:\n",
    "    print(e)"
   ]
  },
  {
   "cell_type": "code",
   "execution_count": 18,
   "metadata": {
    "editable": true
   },
   "outputs": [
    {
     "name": "stdout",
     "output_type": "stream",
     "text": [
      "Row(count=0)\n"
     ]
    }
   ],
   "source": [
    "# Checking if the table is empty\n",
    "try:\n",
    "    rows = session.execute('SELECT COUNT(*) FROM tb_user_songs')\n",
    "\n",
    "except Exception as e:\n",
    "    print(e)\n",
    "\n",
    "for row in rows:\n",
    "    print(row)"
   ]
  },
  {
   "cell_type": "code",
   "execution_count": 19,
   "metadata": {
    "editable": true
   },
   "outputs": [],
   "source": [
    "# Adding some data into the new table\n",
    "csv_file = 'event_datafile_new.csv'\n",
    "query = \"INSERT INTO tb_user_songs (song, userId, firstName, lastName) VALUES (%s, %s, %s, %s)\"\n",
    "\n",
    "# reading csv file \n",
    "with open(csv_file, 'r', encoding = 'utf8', newline='') as csvfile: \n",
    "    # creating a csv reader object \n",
    "    csvreader = csv.reader(csvfile) \n",
    "    next(csvreader)\n",
    "\n",
    "    # Reading each line and adding it to the table\n",
    "    for line in csvreader:\n",
    "        artist, firstName, gender, itemInSession, lastName, length, level, location, sessionId, song, userId = line\n",
    "\n",
    "        try:\n",
    "            session.execute(query, (song, int(userId), firstName, lastName))\n",
    "\n",
    "        except Exception as e:\n",
    "            print(f'The line was not inserted\\nError: {e}')"
   ]
  },
  {
   "cell_type": "code",
   "execution_count": 20,
   "metadata": {
    "editable": true
   },
   "outputs": [
    {
     "name": "stdout",
     "output_type": "stream",
     "text": [
      "Row(count=6618)\n"
     ]
    }
   ],
   "source": [
    "#checking the inserted data\n",
    "\n",
    "try:\n",
    "    rows = session.execute('SELECT COUNT(*) FROM tb_user_songs')\n",
    "\n",
    "except Exception as e:\n",
    "    print(e)\n",
    "\n",
    "for row in rows:\n",
    "    print(row)"
   ]
  },
  {
   "cell_type": "code",
   "execution_count": 21,
   "metadata": {
    "editable": true
   },
   "outputs": [
    {
     "name": "stdout",
     "output_type": "stream",
     "text": [
      "User: Jacqueline Lynch\n",
      "User: Tegan Levine\n",
      "User: Sara Johnson\n"
     ]
    }
   ],
   "source": [
    "# Answering the question Give me every user name (first and last) in my music app history who listened to the song 'All Hands Against His Own'\n",
    "\n",
    "try:\n",
    "    rows = session.execute(\"SELECT firstName, lastName\\\n",
    "                           FROM tb_user_songs \\\n",
    "                           WHERE song = 'All Hands Against His Own'\" )\n",
    "    \n",
    "    for row in rows:\n",
    "        print(f'User: {row.firstname} {row.lastname}')\n",
    "        \n",
    "except Exception as e:\n",
    "    print(e)"
   ]
  },
  {
   "cell_type": "markdown",
   "metadata": {
    "editable": true
   },
   "source": [
    "### Drop the tables before closing out the sessions"
   ]
  },
  {
   "cell_type": "code",
   "execution_count": 22,
   "metadata": {
    "editable": true
   },
   "outputs": [],
   "source": [
    "# All tables in a list\n",
    "\n",
    "queries_drop = [\"DROP TABLE tb_session_songs\", \n",
    "                \"DROP TABLE tb_user_session \", \n",
    "                \"DROP TABLE tb_user_songs\"]\n",
    "\n",
    "try:\n",
    "    for query in queries_drop:\n",
    "        rows = session.execute(query)\n",
    "        \n",
    "except Exception as e:\n",
    "    print(e)"
   ]
  },
  {
   "cell_type": "markdown",
   "metadata": {
    "editable": true
   },
   "source": [
    "### Close the session and cluster connection¶"
   ]
  },
  {
   "cell_type": "code",
   "execution_count": 23,
   "metadata": {
    "editable": true
   },
   "outputs": [],
   "source": [
    "session.shutdown()\n",
    "cluster.shutdown()"
   ]
  }
 ],
 "metadata": {
  "kernelspec": {
   "display_name": "Python 3",
   "language": "python",
   "name": "python3"
  },
  "language_info": {
   "codemirror_mode": {
    "name": "ipython",
    "version": 3
   },
   "file_extension": ".py",
   "mimetype": "text/x-python",
   "name": "python",
   "nbconvert_exporter": "python",
   "pygments_lexer": "ipython3",
   "version": "3.6.3"
  }
 },
 "nbformat": 4,
 "nbformat_minor": 4
}
