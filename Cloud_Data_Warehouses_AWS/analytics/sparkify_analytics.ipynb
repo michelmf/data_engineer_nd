{
 "cells": [
  {
   "cell_type": "markdown",
   "metadata": {},
   "source": [
    "# Sparkify Analysis\n",
    "\n",
    "In this notebook, I investigate some of the available data from the created database."
   ]
  },
  {
   "cell_type": "code",
   "execution_count": 6,
   "metadata": {},
   "outputs": [],
   "source": [
    "import configparser\n",
    "import psycopg2\n",
    "import bokeh\n",
    "\n",
    "import pandas as pd\n",
    "import numpy  as np\n",
    ""
   ]
  },
  {
   "cell_type": "markdown",
   "metadata": {},
   "source": [
    "## Data acquisition"
   ]
  },
  {
   "cell_type": "code",
   "execution_count": 8,
   "metadata": {},
   "outputs": [
    {
     "output_type": "stream",
     "name": "stdout",
     "text": "Connected to Redshift.\n"
    }
   ],
   "source": [
    "# Getting data from redshift\n",
    "conf = configparser.ConfigParser()\n",
    "conf.read('../dwh.cfg')\n",
    "\n",
    "try:\n",
    "    conn = psycopg2.connect(\"host={} dbname={} user={} password={} port={}\".format(*conf['CLUSTER'].values()))\n",
    "    cur = conn.cursor()\n",
    "    \n",
    "    # If the connection is ok\n",
    "    print('Connected to Redshift.')\n",
    "\n",
    "except Exception as e:\n",
    "    print(f'Error while connecting: {e}')\n",
    ""
   ]
  },
  {
   "cell_type": "markdown",
   "metadata": {},
   "source": [
    "## Sparkify Analytics\n",
    "\n",
    "As Sparkify wants to analyze its data, it is important to understand the behavior of their clients. Below I provide some possible research directions for the company to learn about their data."
   ]
  },
  {
   "cell_type": "markdown",
   "metadata": {},
   "source": [
    "### Artists\n",
    "\n",
    "One can investigate the origin of frequently listened artists. We can find out the origin of each band/artist available in sparkify's database."
   ]
  },
  {
   "cell_type": "code",
   "execution_count": 26,
   "metadata": {},
   "outputs": [],
   "source": [
    "artist_data = pd.read_sql(\"SELECT * FROM artists\", conn)\n",
    ""
   ]
  },
  {
   "cell_type": "code",
   "execution_count": 33,
   "metadata": {},
   "outputs": [
    {
     "output_type": "execute_result",
     "data": {
      "text/plain": "            artist_id                                       name  \\\n0  AR00DG71187B9B7FCB                          Basslovers United   \n1  AR00FVC1187FB5BE3E                                      Panda   \n2  AR00MQ31187B9ACD8F                              Chris Carrier   \n3  AR01WHF1187B9B53B8                                  Lullatone   \n4  AR026BB1187B994DC3                               Ijahman Levi   \n5  AR039B11187B9B30D0                              John Williams   \n6  AR03Z7E1187FB44816  The Colourfield Featuring Sinead O'Connor   \n7  AR040M31187B98CA41                 The Bug Featuring Spaceape   \n8  AR040RJ1187FB4D2AB                                  Azure Ray   \n9  AR049S81187B9AE8A5                           The Human League   \n\n                        location  latitude  longitude  \n0                                      NaN        NaN  \n1          Monterrey, NL, México  25.67084 -100.30953  \n2                                      NaN        NaN  \n3                  Nagoya, Japan       NaN        NaN  \n4                                      NaN        NaN  \n5             NEW YORK, New York       NaN        NaN  \n6            Manchester, England  53.47960   -2.24881  \n7                                      NaN        NaN  \n8                                      NaN        NaN  \n9  Sheffield, Yorkshire, England  53.38311   -1.46454  ",
      "text/html": "<div>\n<style scoped>\n    .dataframe tbody tr th:only-of-type {\n        vertical-align: middle;\n    }\n\n    .dataframe tbody tr th {\n        vertical-align: top;\n    }\n\n    .dataframe thead th {\n        text-align: right;\n    }\n</style>\n<table border=\"1\" class=\"dataframe\">\n  <thead>\n    <tr style=\"text-align: right;\">\n      <th></th>\n      <th>artist_id</th>\n      <th>name</th>\n      <th>location</th>\n      <th>latitude</th>\n      <th>longitude</th>\n    </tr>\n  </thead>\n  <tbody>\n    <tr>\n      <th>0</th>\n      <td>AR00DG71187B9B7FCB</td>\n      <td>Basslovers United</td>\n      <td></td>\n      <td>NaN</td>\n      <td>NaN</td>\n    </tr>\n    <tr>\n      <th>1</th>\n      <td>AR00FVC1187FB5BE3E</td>\n      <td>Panda</td>\n      <td>Monterrey, NL, México</td>\n      <td>25.67084</td>\n      <td>-100.30953</td>\n    </tr>\n    <tr>\n      <th>2</th>\n      <td>AR00MQ31187B9ACD8F</td>\n      <td>Chris Carrier</td>\n      <td></td>\n      <td>NaN</td>\n      <td>NaN</td>\n    </tr>\n    <tr>\n      <th>3</th>\n      <td>AR01WHF1187B9B53B8</td>\n      <td>Lullatone</td>\n      <td>Nagoya, Japan</td>\n      <td>NaN</td>\n      <td>NaN</td>\n    </tr>\n    <tr>\n      <th>4</th>\n      <td>AR026BB1187B994DC3</td>\n      <td>Ijahman Levi</td>\n      <td></td>\n      <td>NaN</td>\n      <td>NaN</td>\n    </tr>\n    <tr>\n      <th>5</th>\n      <td>AR039B11187B9B30D0</td>\n      <td>John Williams</td>\n      <td>NEW YORK, New York</td>\n      <td>NaN</td>\n      <td>NaN</td>\n    </tr>\n    <tr>\n      <th>6</th>\n      <td>AR03Z7E1187FB44816</td>\n      <td>The Colourfield Featuring Sinead O'Connor</td>\n      <td>Manchester, England</td>\n      <td>53.47960</td>\n      <td>-2.24881</td>\n    </tr>\n    <tr>\n      <th>7</th>\n      <td>AR040M31187B98CA41</td>\n      <td>The Bug Featuring Spaceape</td>\n      <td></td>\n      <td>NaN</td>\n      <td>NaN</td>\n    </tr>\n    <tr>\n      <th>8</th>\n      <td>AR040RJ1187FB4D2AB</td>\n      <td>Azure Ray</td>\n      <td></td>\n      <td>NaN</td>\n      <td>NaN</td>\n    </tr>\n    <tr>\n      <th>9</th>\n      <td>AR049S81187B9AE8A5</td>\n      <td>The Human League</td>\n      <td>Sheffield, Yorkshire, England</td>\n      <td>53.38311</td>\n      <td>-1.46454</td>\n    </tr>\n  </tbody>\n</table>\n</div>"
     },
     "metadata": {},
     "execution_count": 33
    }
   ],
   "source": [
    "# Samples of artist_data\n",
    "artist_data.head(10)"
   ]
  },
  {
   "cell_type": "code",
   "execution_count": 31,
   "metadata": {},
   "outputs": [
    {
     "output_type": "stream",
     "name": "stdout",
     "text": "Number of artists in database: 10025\n"
    }
   ],
   "source": [
    "# How many unique artists present in the database?\n",
    "print('Number of artists in database: {}'.format(artist_data.shape[0]))"
   ]
  },
  {
   "cell_type": "code",
   "execution_count": 35,
   "metadata": {},
   "outputs": [
    {
     "output_type": "execute_result",
     "data": {
      "text/plain": "                      4805\nLondon, England        147\nLos Angeles, CA        146\nNew York, NY           107\nCalifornia - LA         75\nChicago, IL             74\nNY - New York City      70\nBrooklyn, NY            52\nDetroit, MI             46\nCalifornia              45\nPhiladelphia, PA        45\nTexas                   40\nSan Francisco, CA       38\nAtlanta, GA             34\nUnited States           33\nLondon                  33\nBoston, MA              32\nSeattle, WA             31\nMemphis, TN             30\nCANADA - Ontario        30\nName: location, dtype: int64"
     },
     "metadata": {},
     "execution_count": 35
    }
   ],
   "source": [
    "# where are they from? Finding the top 20 origin places of artists\n",
    "artist_data.location.value_counts().head(20)"
   ]
  },
  {
   "cell_type": "code",
   "execution_count": null,
   "metadata": {},
   "outputs": [],
   "source": [
    "# All the artists, a geographic heatmap"
   ]
  }
 ],
 "metadata": {
  "kernelspec": {
   "display_name": "Python 3.6.5 64-bit",
   "language": "python",
   "name": "python36564bitaea4bc55c40e466494dc2124a8d1f3bd"
  },
  "language_info": {
   "codemirror_mode": {
    "name": "ipython",
    "version": 3
   },
   "file_extension": ".py",
   "mimetype": "text/x-python",
   "name": "python",
   "nbconvert_exporter": "python",
   "pygments_lexer": "ipython3",
   "version": "3.7.1-final"
  }
 },
 "nbformat": 4,
 "nbformat_minor": 4
}